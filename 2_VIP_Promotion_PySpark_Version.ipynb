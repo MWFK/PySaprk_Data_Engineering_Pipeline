{
  "nbformat": 4,
  "nbformat_minor": 0,
  "metadata": {
    "colab": {
      "name": "2. VIP Promotion PySpark Version.ipynb",
      "provenance": [],
      "collapsed_sections": [],
      "authorship_tag": "ABX9TyOOLaLjaQF5HIsLIobPzQ4b",
      "include_colab_link": true
    },
    "kernelspec": {
      "name": "python3",
      "display_name": "Python 3"
    },
    "language_info": {
      "name": "python"
    }
  },
  "cells": [
    {
      "cell_type": "markdown",
      "metadata": {
        "id": "view-in-github",
        "colab_type": "text"
      },
      "source": [
        "<a href=\"https://colab.research.google.com/github/MWFK/Nike_Case_Assignments/blob/main/Python%20PySpark%20Use%20Case/2_VIP_Promotion_PySpark_Version.ipynb\" target=\"_parent\"><img src=\"https://colab.research.google.com/assets/colab-badge.svg\" alt=\"Open In Colab\"/></a>"
      ]
    },
    {
      "cell_type": "markdown",
      "source": [
        "# Objectives\n",
        "\n",
        "**Build** a small data pipeline that outputs **an overview of Nike’s VIP customers**, **ordered by the total sales value of their purchases**. \n",
        "\n",
        "---\n",
        "\n",
        "For this promotion, the marketing department is only interested in **VIPs currently located in The Netherlands.** \n",
        "\n",
        "\n",
        "---\n",
        "\n",
        "\n",
        "**VIPs that have not purchased any products are still eligible** – they are VIP, after all. \n",
        "\n",
        "\n",
        "---\n",
        "\n",
        "\n",
        "This ask is not a one-off, as Marketing is already thinking about running this promotion again next year if it is successful.\n",
        "\n",
        "\n",
        "---\n",
        "\n",
        "\n",
        "In the overview, Marketing is looking for:\n",
        "\n",
        "  The name of the VIP\n",
        "\n",
        "  The email address of the VIP\n",
        "\n",
        "  The total sales value of the VIPs purchases"
      ],
      "metadata": {
        "id": "CMm5wSGGtPWh"
      }
    },
    {
      "cell_type": "markdown",
      "source": [
        "# Install Libs"
      ],
      "metadata": {
        "id": "dSMpcM5slacH"
      }
    },
    {
      "cell_type": "code",
      "source": [
        "pip install pyspark"
      ],
      "metadata": {
        "id": "BB-x8T4UiZoA",
        "colab": {
          "base_uri": "https://localhost:8080/"
        },
        "outputId": "19a93bc7-a19e-47c6-a652-759a283b6be7"
      },
      "execution_count": 102,
      "outputs": [
        {
          "output_type": "stream",
          "name": "stdout",
          "text": [
            "Looking in indexes: https://pypi.org/simple, https://us-python.pkg.dev/colab-wheels/public/simple/\n",
            "Requirement already satisfied: pyspark in /usr/local/lib/python3.7/dist-packages (3.3.0)\n",
            "Requirement already satisfied: py4j==0.10.9.5 in /usr/local/lib/python3.7/dist-packages (from pyspark) (0.10.9.5)\n"
          ]
        }
      ]
    },
    {
      "cell_type": "markdown",
      "source": [
        "# Load Libs"
      ],
      "metadata": {
        "id": "zR7SAMu2lct5"
      }
    },
    {
      "cell_type": "code",
      "execution_count": 103,
      "metadata": {
        "id": "mxKslKUdhKOx"
      },
      "outputs": [],
      "source": [
        "import numpy as np\n",
        "import pandas as pd\n",
        "import pyarrow.parquet as pq\n",
        "\n",
        "import pyspark\n",
        "from pyspark.sql import SparkSession\n",
        "from pyspark.sql.functions import coalesce, when, col,when, abs, lit"
      ]
    },
    {
      "cell_type": "markdown",
      "source": [
        "# Import Data"
      ],
      "metadata": {
        "id": "U0wtakjLlfPg"
      }
    },
    {
      "cell_type": "code",
      "source": [
        "# Implementing Parquet file format in PySpark\n",
        "spark=SparkSession.builder.appName(\"PySpark USe Case\").getOrCreate()\n",
        "\n",
        "# Reading parquet dataframe\n",
        "df_transactions = spark.read.parquet('/content/transactions.parquet')\n",
        "df_transactions.show(truncate = False)"
      ],
      "metadata": {
        "colab": {
          "base_uri": "https://localhost:8080/"
        },
        "id": "o3Ufo4dSjUkR",
        "outputId": "26098b84-6a06-4b1c-8c82-65a3048b2f01"
      },
      "execution_count": 104,
      "outputs": [
        {
          "output_type": "stream",
          "name": "stdout",
          "text": [
            "+-----+----------------+------------+-----------+---------------+--------------------+--------+--------+---------------------------------+------------------------+-------------+-----------------+-----------------+-------------+\n",
            "|store|transaction_date|order_number|line_number|product_id     |product_name        |quantity|currency|recommended_retail_price_per_unit|discount_amount_per_unit|profile_id   |cancellation_flag|cancellation_date|source_system|\n",
            "+-----+----------------+------------+-----------+---------------+--------------------+--------+--------+---------------------------------+------------------------+-------------+-----------------+-----------------+-------------+\n",
            "|.com |2020-11-20      |422681959244|1          |720854836340997|zJnSpFriDYyNDJhwxMxD|1       |NL      |721                              |null                    |1-5151-4642-1|null             |null             |DIGITAL      |\n",
            "|.com |2020-11-20      |422681959244|2          |999789223355744|XVnSxtFOJUDGlfxVQauS|1       |NL      |71                               |25.0                    |1-5151-4642-1|null             |null             |DIGITAL      |\n",
            "|.com |2020-11-20      |422681959244|3          |343125809243217|XkzpDAMIbZmTvuMTmGPU|1       |NL      |812                              |null                    |1-5151-4642-1|null             |null             |DIGITAL      |\n",
            "|.com |2020-11-23      |982990828489|1          |451789186646625|PeSsoTndtARHiWxgEooV|1       |SDG     |755                              |null                    |1-57006-547-0|null             |null             |DIGITAL      |\n",
            "|.com |2020-11-28      |560607850517|1          |162643898729888|XidxwPxWZGzNaZqPosjV|1       |MOP     |372                              |null                    |1-5151-4642-1|null             |null             |DIGITAL      |\n",
            "|.com |2020-11-27      |982990828489|1          |451789186646625|PeSsoTndtARHiWxgEooV|-1      |SDG     |-755                             |null                    |1-57006-547-0|null             |null             |DIGITAL      |\n",
            "|.com |2020-11-06      |255329180770|1          |89920978863916 |PCZZxsBhrPPbFXGHgisb|1       |GMD     |678                              |null                    |1-4947-2509-6|null             |null             |DIGITAL      |\n",
            "|.com |2020-11-06      |255329180770|2          |28756773917332 |AEzisXHrWPYPdGSKhASe|1       |GMD     |678                              |null                    |1-4947-2509-6|null             |null             |DIGITAL      |\n",
            "|.com |2020-11-06      |255329180770|3          |408285286501930|ADUSDiRfHjyQFwhnQJiL|2       |GMD     |400                              |null                    |1-4947-2509-6|null             |null             |DIGITAL      |\n",
            "|.com |2020-11-06      |255329180770|3          |408285286501930|ADUSDiRfHjyQFwhnQJiL|2       |GMD     |400                              |null                    |1-4947-2509-6|yes              |2020-11-06       |DIGITAL      |\n",
            "|.com |2020-11-14      |119667565341|1          |326344697748737|EYYZNlNYGxWhSRUPuyfl|4       |PKR     |898                              |75.0                    |1-4786-9297-9|null             |null             |DIGITAL      |\n",
            "|.com |2020-11-23      |144763924735|1          |12504163756291 |EwllGZIZeoKHDtrONyxW|1       |FJD     |644                              |null                    |1-4786-9297-9|null             |null             |DIGITAL      |\n",
            "|.com |2020-11-02      |195509282377|1          |133436808692578|kBzjXzAXrKdlqUzjPsSf|2       |NZD     |181                              |null                    |1-9860-3438-0|null             |null             |DIGITAL      |\n",
            "|.com |2020-11-10      |848930627247|1          |498395574486943|BTehnClwJeLEucLlMwjC|1       |MRO     |175                              |100.0                   |1-9860-3438-0|null             |null             |DIGITAL      |\n",
            "|.com |2020-11-26      |203514742148|1          |382340440683008|pqxgNnrxWFYVGBCceJnd|2       |BAM     |901                              |null                    |1-85886-104-7|null             |null             |DIGITAL      |\n",
            "|.com |2020-11-26      |203514742148|1          |382340440683008|pqxgNnrxWFYVGBCceJnd|2       |BAM     |901                              |null                    |1-85886-104-7|yes              |2020-11-27       |DIGITAL      |\n",
            "|.com |2020-11-09      |341377878278|1          |278886094726859|vGTcKZinezDPfJsnVAag|1       |ILS     |782                              |null                    |0-89923-575-1|null             |null             |DIGITAL      |\n",
            "|.com |2020-11-30      |195509282377|1          |133436808692578|kBzjXzAXrKdlqUzjPsSf|-1      |NZD     |-181                             |null                    |1-9860-3438-0|null             |null             |DIGITAL      |\n",
            "+-----+----------------+------------+-----------+---------------+--------------------+--------+--------+---------------------------------+------------------------+-------------+-----------------+-----------------+-------------+\n",
            "\n"
          ]
        }
      ]
    },
    {
      "cell_type": "code",
      "source": [
        "path_vips_1101 = '/content/vips_2020-11-01.csv'\n",
        "df_vips_1101   = spark.read.csv(path_vips_1101, header=True)\n",
        "df_vips_1101.show(truncate = False)"
      ],
      "metadata": {
        "colab": {
          "base_uri": "https://localhost:8080/"
        },
        "id": "E1OWsXfykelW",
        "outputId": "b87e7023-1e8a-496f-fc1e-50880d5a5caa"
      },
      "execution_count": 105,
      "outputs": [
        {
          "output_type": "stream",
          "name": "stdout",
          "text": [
            "+----------+----------+---------+--------+---------------+-----------------------+\n",
            "|vip_id    |first_name|last_name|vip_type|country        |email                  |\n",
            "+----------+----------+---------+--------+---------------+-----------------------+\n",
            "|4544056563|Brandon   |Ritter   |Athlete |The Netherlands|Brandon.Ritter@nike.com|\n",
            "|9339003839|Adam      |Hall     |Athlete |Czech Republic |Adam.Hall@nike.com     |\n",
            "|1600627714|null      |null     |Donator |Australia      |Fernando@Ford.com      |\n",
            "|7531485682|Edwin     |Floyd    |null    |The Netherlands|Edwin.Floyd@nike.com   |\n",
            "|4271215441|Kristin   |Brooks   |Donator |The Netherlands|Kristin@Brooks.com     |\n",
            "|4262242729|William   |Smith    |Athlete |United States  |William.Smith@nike.com |\n",
            "|6159265415|Angela    |Trujillo |Donator |Belarus        |Angela@Trujillo.com    |\n",
            "+----------+----------+---------+--------+---------------+-----------------------+\n",
            "\n"
          ]
        }
      ]
    },
    {
      "cell_type": "code",
      "source": [
        "path_vips_1115 = '/content/vips_2020-11-15.csv'\n",
        "df_vips_1115   = spark.read.csv(path_vips_1115, header=True)\n",
        "df_vips_1115.show(truncate = False)"
      ],
      "metadata": {
        "colab": {
          "base_uri": "https://localhost:8080/"
        },
        "id": "AdYoFwKSk3sI",
        "outputId": "64b42ef0-37f5-4567-db06-a749f94d307d"
      },
      "execution_count": 106,
      "outputs": [
        {
          "output_type": "stream",
          "name": "stdout",
          "text": [
            "+----------+----------+-------------+--------+---------------+-----------------------+\n",
            "|vip_id    |first_name|last_name    |vip_type|country        |email                  |\n",
            "+----------+----------+-------------+--------+---------------+-----------------------+\n",
            "|4544056563|Brandon   |Ritter       |Athlete |The Netherlands|Brandon.Ritter@nike.com|\n",
            "|9339003839|Adam      |Hall         |Athlete |Czech Republic |Adam.Hall@nike.com     |\n",
            "|1600627714|Fernando  |Ford         |Donator |Australia      |Fernando@Ford.com      |\n",
            "|7531485682|Edwin     |Floyd        |null    |The Netherlands|Edwin.Floyd@nike.com   |\n",
            "|4271215441|Kristin   |Brooks-Ritter|Donator |The Netherlands|Kristin@Brooks.com     |\n",
            "|4262242729|William   |Smith        |Athlete |United States  |William.Smith@nike.com |\n",
            "|6159265415|Angela    |Trujillo     |Donator |Belarus        |Angela@Trujillo.com    |\n",
            "|4711973834|Seth      |Lee          |Donator |The Netherlands|Seth@Lee.com           |\n",
            "+----------+----------+-------------+--------+---------------+-----------------------+\n",
            "\n"
          ]
        }
      ]
    },
    {
      "cell_type": "code",
      "source": [
        "path_vips_1125 = '/content/vips_2020-11-25.csv'\n",
        "df_vips_1125   = spark.read.csv(path_vips_1125, header=True)\n",
        "df_vips_1125.show(truncate = False)"
      ],
      "metadata": {
        "colab": {
          "base_uri": "https://localhost:8080/"
        },
        "id": "lDRXOa_3lJNr",
        "outputId": "cee6e4dc-16bb-4341-cb34-7e5ca1ac9b1a"
      },
      "execution_count": 107,
      "outputs": [
        {
          "output_type": "stream",
          "name": "stdout",
          "text": [
            "+----------+----------+-------------+-----------------+---------------+-----------------------+\n",
            "|vip_id    |first_name|last_name    |vip_type         |country        |email                  |\n",
            "+----------+----------+-------------+-----------------+---------------+-----------------------+\n",
            "|4544056563|Brandon   |Ritter       |Athlete + Donator|The Netherlands|Brandon.Ritter@nike.com|\n",
            "|9339003839|Adam      |Hall         |Athlete          |Czech Republic |Adam.Hall@nike.com     |\n",
            "|1600627714|Fernando  |Ford         |Donator          |Australia      |Fernando@Ford.com      |\n",
            "|7531485682|Edwin     |Floyd        |Donator          |The Netherlands|Edwin.Floyd@nike.com   |\n",
            "|4271215441|Kristin   |Brooks-Ritter|Donator          |The Netherlands|Kristin@Brooks.com     |\n",
            "|1154401046|Justin    |Powell       |Athlete          |Finland        |Justin.Powell@nike.com |\n",
            "|4262242729|William   |Smith        |Athlete          |United States  |William.Smith@nike.com |\n",
            "|6159265415|Angela    |Trujillo     |Donator          |Belarus        |Angela@Trujillo.com    |\n",
            "|4711973834|Seth      |Lee          |Donator          |The Netherlands|Seth@Lee.com           |\n",
            "+----------+----------+-------------+-----------------+---------------+-----------------------+\n",
            "\n"
          ]
        }
      ]
    },
    {
      "cell_type": "code",
      "source": [
        "path_vips_mapping = '/content/umd_vip_to_profile_mapping.csv'\n",
        "df_vips_mapping   = spark.read.csv(path_vips_mapping, header=True, sep=';')\n",
        "df_vips_mapping.show(truncate = False)"
      ],
      "metadata": {
        "colab": {
          "base_uri": "https://localhost:8080/"
        },
        "id": "Bnsu-SQhmpTt",
        "outputId": "81f14fda-0f39-44d8-c865-c5c1ad979721"
      },
      "execution_count": 108,
      "outputs": [
        {
          "output_type": "stream",
          "name": "stdout",
          "text": [
            "+----------+-------------+------+----------------+------------------------------------+\n",
            "|vip_id    |profile_id   |active|meta_change_date|meta_comments                       |\n",
            "+----------+-------------+------+----------------+------------------------------------+\n",
            "|4544056563|1-5151-4642-1|yes   |null            |null                                |\n",
            "|4544056563|1-5151-4642-1|no    |4-1-2020        |This athlete was in the system twice|\n",
            "|9339003839|1-4786-9297-9|yes   |null            |null                                |\n",
            "|1600627714|1-4947-2509-6|yes   |null            |null                                |\n",
            "|7531485682|1-57006-547-0|no    |25-1-2020       |No longer a donator                 |\n",
            "|4271215441|1-9860-3438-0|yes   |null            |null                                |\n",
            "|1154401046|1-85886-104-7|yes   |null            |null                                |\n",
            "|4262242729|0-89923-575-1|yes   |null            |null                                |\n",
            "|6159265415|0-10-241138-7|yes   |null            |null                                |\n",
            "|4711973834|1-59971-953-3|yes   |null            |null                                |\n",
            "+----------+-------------+------+----------------+------------------------------------+\n",
            "\n"
          ]
        }
      ]
    },
    {
      "cell_type": "markdown",
      "source": [
        "# VIP Data Preprocessing"
      ],
      "metadata": {
        "id": "QqGIrkKjlt_E"
      }
    },
    {
      "cell_type": "code",
      "source": [
        "def vip_process(df_vips_mapping, start_date):\n",
        "  \n",
        "  # Date based data loading\n",
        "  df_vips = spark.read.csv('/content/vips_'+start_date+'.csv', header=True)\n",
        "\n",
        "  # Only keep VIP's currently based in the Netherlands\n",
        "  df_vips = df_vips.filter((df_vips.country=='The Netherlands'))\n",
        "\n",
        "  ''' \n",
        "  An athlete got his status active as no since he was duplicated in the system\n",
        "  and since from the meta_commets we have no other indication, that means he still an active VIP, \n",
        "  so we'll delete that duplicate VIP ID with active status no\n",
        "  '''\n",
        "  df_vips_mapping = df_vips_mapping.drop_duplicates(subset=['vip_id'])\n",
        "\n",
        "  # Merge df_vips_mapping with df_vips_1101 using 'vip_id'\n",
        "  df_vips_mapped = df_vips.join(df_vips_mapping ,df_vips.vip_id == df_vips_mapping.vip_id, \"left\")\n",
        "\n",
        "  # Only keep active VIP's\n",
        "  df_vips_mapped = df_vips_mapped.filter(df_vips_mapped.active=='yes')\n",
        "\n",
        "  df_vips_mapped = df_vips_mapped.withColumn(\"period_start\", lit(start_date))\n",
        "\n",
        "  return df_vips_mapped[['profile_id', 'first_name', 'email', 'period_start']]"
      ],
      "metadata": {
        "id": "mb_4eepqwXQ9"
      },
      "execution_count": 109,
      "outputs": []
    },
    {
      "cell_type": "code",
      "source": [
        "start_date = '2020-11-01'\n",
        "vip_process(df_vips_mapping, start_date).show()"
      ],
      "metadata": {
        "colab": {
          "base_uri": "https://localhost:8080/"
        },
        "id": "j-pjrjvvytYB",
        "outputId": "be66bb14-8730-4203-d879-83b19fec70ab"
      },
      "execution_count": 110,
      "outputs": [
        {
          "output_type": "stream",
          "name": "stdout",
          "text": [
            "+-------------+----------+--------------------+------------+\n",
            "|   profile_id|first_name|               email|period_start|\n",
            "+-------------+----------+--------------------+------------+\n",
            "|1-9860-3438-0|   Kristin|  Kristin@Brooks.com|  2020-11-01|\n",
            "|1-5151-4642-1|   Brandon|Brandon.Ritter@ni...|  2020-11-01|\n",
            "+-------------+----------+--------------------+------------+\n",
            "\n"
          ]
        }
      ]
    },
    {
      "cell_type": "code",
      "source": [
        "start_date = '2020-11-15'\n",
        "vip_process(df_vips_mapping, start_date).show()"
      ],
      "metadata": {
        "colab": {
          "base_uri": "https://localhost:8080/"
        },
        "id": "xmhRf8GZywbh",
        "outputId": "da8d19cd-09da-40ba-fd8e-e684fcbac26c"
      },
      "execution_count": 111,
      "outputs": [
        {
          "output_type": "stream",
          "name": "stdout",
          "text": [
            "+-------------+----------+--------------------+------------+\n",
            "|   profile_id|first_name|               email|period_start|\n",
            "+-------------+----------+--------------------+------------+\n",
            "|1-9860-3438-0|   Kristin|  Kristin@Brooks.com|  2020-11-15|\n",
            "|1-5151-4642-1|   Brandon|Brandon.Ritter@ni...|  2020-11-15|\n",
            "|1-59971-953-3|      Seth|        Seth@Lee.com|  2020-11-15|\n",
            "+-------------+----------+--------------------+------------+\n",
            "\n"
          ]
        }
      ]
    },
    {
      "cell_type": "code",
      "source": [
        "start_date = '2020-11-25'\n",
        "vip_process(df_vips_mapping, start_date).show()"
      ],
      "metadata": {
        "colab": {
          "base_uri": "https://localhost:8080/"
        },
        "id": "CC9P0SnJ4AYl",
        "outputId": "3c54bfa9-c1bb-4735-f0e8-74d3e1030f43"
      },
      "execution_count": 112,
      "outputs": [
        {
          "output_type": "stream",
          "name": "stdout",
          "text": [
            "+-------------+----------+--------------------+------------+\n",
            "|   profile_id|first_name|               email|period_start|\n",
            "+-------------+----------+--------------------+------------+\n",
            "|1-9860-3438-0|   Kristin|  Kristin@Brooks.com|  2020-11-25|\n",
            "|1-5151-4642-1|   Brandon|Brandon.Ritter@ni...|  2020-11-25|\n",
            "|1-59971-953-3|      Seth|        Seth@Lee.com|  2020-11-25|\n",
            "+-------------+----------+--------------------+------------+\n",
            "\n"
          ]
        }
      ]
    },
    {
      "cell_type": "markdown",
      "source": [
        "# Transaction Data Preprocessing"
      ],
      "metadata": {
        "id": "_3vKR77e4n6p"
      }
    },
    {
      "cell_type": "code",
      "source": [
        "def transaction_process(df_transactions, start_date, end_date):\n",
        "\n",
        "  # df_transactions_date = df_transactions[(df_transactions['transaction_date'] >= start_date) & (df_transactions['transaction_date'] < end_date)]\n",
        "  df_transactions_date = df_transactions.filter(df_transactions.transaction_date >= start_date).filter(df_transactions.transaction_date < end_date) \n",
        "\n",
        "  # Replace the null with no\n",
        "  df_transactions_date = df_transactions_date.fillna('no', subset=['cancellation_flag'])\n",
        "  # Drop the cancelled items\n",
        "  df_transactions_date = df_transactions_date.filter(df_transactions_date.cancellation_flag != 'yes')\n",
        "  \n",
        "  # Change the 100 with 0, so after applying the discount the customer gets the unit for free. Divide the rest of the values by 100\n",
        "  df_transactions_date = df_transactions_date.withColumn('discount_amount_per_unit', when(df_transactions_date['discount_amount_per_unit'] == 100, 0).otherwise(df_transactions_date['discount_amount_per_unit']/100))\n",
        "  # Change the null values with 1, so no discount will be applied\n",
        "  df_transactions_date = df_transactions_date.fillna(1, subset=['discount_amount_per_unit'])\n",
        "  \n",
        "  # Calculate the unit price after applying the discount\n",
        "  df_transactions_date = df_transactions_date.withColumn('unit_price_after_discount', abs(col('recommended_retail_price_per_unit'))*col('discount_amount_per_unit')*col('quantity'))\\\n",
        "  \n",
        "  # Filter out unecessary columns\n",
        "  df_transactions_date = df_transactions_date[['profile_id', 'unit_price_after_discount']]\n",
        "\n",
        "  df_transactions_date = df_transactions_date.groupBy('profile_id').sum('unit_price_after_discount').withColumnRenamed(\"sum(unit_price_after_discount)\", \"period_sales_after_discount\")\n",
        "\n",
        "  df_transactions_date = df_transactions_date.withColumn(\"period_start\", lit(start_date))\n",
        "\n",
        "  return df_transactions_date"
      ],
      "metadata": {
        "id": "1f43g27DGdl4"
      },
      "execution_count": 113,
      "outputs": []
    },
    {
      "cell_type": "code",
      "source": [
        "start_date = '2020-11-01'\n",
        "end_date   = '2020-11-15'\n",
        "transaction_process(df_transactions, start_date, end_date).show()"
      ],
      "metadata": {
        "colab": {
          "base_uri": "https://localhost:8080/"
        },
        "id": "_7cODqU-L952",
        "outputId": "afffc979-d406-40dd-a205-a1b3e5a0cebd"
      },
      "execution_count": 114,
      "outputs": [
        {
          "output_type": "stream",
          "name": "stdout",
          "text": [
            "+-------------+---------------------------+------------+\n",
            "|   profile_id|period_sales_after_discount|period_start|\n",
            "+-------------+---------------------------+------------+\n",
            "|1-9860-3438-0|                      362.0|  2020-11-01|\n",
            "|0-89923-575-1|                      782.0|  2020-11-01|\n",
            "|1-4786-9297-9|                     2694.0|  2020-11-01|\n",
            "|1-4947-2509-6|                     2156.0|  2020-11-01|\n",
            "+-------------+---------------------------+------------+\n",
            "\n"
          ]
        }
      ]
    },
    {
      "cell_type": "code",
      "source": [
        "start_date = '2020-11-15'\n",
        "end_date   = '2020-11-25'\n",
        "transaction_process(df_transactions, start_date, end_date).show()"
      ],
      "metadata": {
        "colab": {
          "base_uri": "https://localhost:8080/"
        },
        "id": "hNqYmo8-S0wA",
        "outputId": "e72f710f-7a3a-48ee-d529-dfd3a7c4ec55"
      },
      "execution_count": 115,
      "outputs": [
        {
          "output_type": "stream",
          "name": "stdout",
          "text": [
            "+-------------+---------------------------+------------+\n",
            "|   profile_id|period_sales_after_discount|period_start|\n",
            "+-------------+---------------------------+------------+\n",
            "|1-57006-547-0|                      755.0|  2020-11-15|\n",
            "|1-5151-4642-1|                    1550.75|  2020-11-15|\n",
            "|1-4786-9297-9|                      644.0|  2020-11-15|\n",
            "+-------------+---------------------------+------------+\n",
            "\n"
          ]
        }
      ]
    },
    {
      "cell_type": "code",
      "source": [
        "start_date = '2020-11-25'\n",
        "end_date   = '2020-11-31'\n",
        "transaction_process(df_transactions, start_date, end_date).show()"
      ],
      "metadata": {
        "colab": {
          "base_uri": "https://localhost:8080/"
        },
        "id": "Uow0hJdHS3n6",
        "outputId": "7b9ef75b-7d4b-442e-9f1f-3c45b4a76f8c"
      },
      "execution_count": 116,
      "outputs": [
        {
          "output_type": "stream",
          "name": "stdout",
          "text": [
            "+-------------+---------------------------+------------+\n",
            "|   profile_id|period_sales_after_discount|period_start|\n",
            "+-------------+---------------------------+------------+\n",
            "|1-9860-3438-0|                     -181.0|  2020-11-25|\n",
            "|1-57006-547-0|                     -755.0|  2020-11-25|\n",
            "|1-85886-104-7|                     1802.0|  2020-11-25|\n",
            "|1-5151-4642-1|                      372.0|  2020-11-25|\n",
            "+-------------+---------------------------+------------+\n",
            "\n"
          ]
        }
      ]
    },
    {
      "cell_type": "markdown",
      "source": [
        "# Weekly Overview"
      ],
      "metadata": {
        "id": "jp5v6OVeNn4V"
      }
    },
    {
      "cell_type": "code",
      "source": [
        "def vip_sales_overview(df_vips_mapping, df_transactions, start_date, end_date):\n",
        "  df_vips_mapped              = vip_process(df_vips_mapping, start_date)\n",
        "  df_transactions_date        = transaction_process(df_transactions, start_date, end_date)\n",
        "  df_vips_mapped_transactions = df_vips_mapped.join(df_transactions_date , on=['profile_id'] , how = 'left').drop(df_transactions_date.period_start)\n",
        "  return df_vips_mapped_transactions[['profile_id','first_name', 'email', 'period_sales_after_discount', 'period_start']]"
      ],
      "metadata": {
        "id": "dNxTqnqpNobu"
      },
      "execution_count": 117,
      "outputs": []
    },
    {
      "cell_type": "code",
      "source": [
        "start_date = '2020-11-01'\n",
        "end_date   = '2020-11-15'\n",
        "vip_sales_overview(df_vips_mapping, df_transactions, start_date, end_date).show()"
      ],
      "metadata": {
        "colab": {
          "base_uri": "https://localhost:8080/"
        },
        "id": "2vUKK4emNsj6",
        "outputId": "0288f7ec-e637-4e21-9a6e-880aa86fd899"
      },
      "execution_count": 118,
      "outputs": [
        {
          "output_type": "stream",
          "name": "stdout",
          "text": [
            "+-------------+----------+--------------------+---------------------------+------------+\n",
            "|   profile_id|first_name|               email|period_sales_after_discount|period_start|\n",
            "+-------------+----------+--------------------+---------------------------+------------+\n",
            "|1-9860-3438-0|   Kristin|  Kristin@Brooks.com|                      362.0|  2020-11-01|\n",
            "|1-5151-4642-1|   Brandon|Brandon.Ritter@ni...|                       null|  2020-11-01|\n",
            "+-------------+----------+--------------------+---------------------------+------------+\n",
            "\n"
          ]
        }
      ]
    },
    {
      "cell_type": "markdown",
      "source": [
        "Interpretations Brandon did not make a purchase during the first two weeks. Kristin have bought two of the same unit during the first two weeks, Then he returned one of them during the last week Therefore, we should keep the minus values as an indications for returned units."
      ],
      "metadata": {
        "id": "XOHNedf6R-4B"
      }
    },
    {
      "cell_type": "code",
      "source": [
        "start_date = '2020-11-15'\n",
        "end_date   = '2020-11-25'\n",
        "vip_sales_overview(df_vips_mapping, df_transactions, start_date, end_date).show()"
      ],
      "metadata": {
        "colab": {
          "base_uri": "https://localhost:8080/"
        },
        "id": "IZDJQoD1P6_J",
        "outputId": "e7a822c5-b582-4f09-82c4-f2986b1d38c7"
      },
      "execution_count": 119,
      "outputs": [
        {
          "output_type": "stream",
          "name": "stdout",
          "text": [
            "+-------------+----------+--------------------+---------------------------+------------+\n",
            "|   profile_id|first_name|               email|period_sales_after_discount|period_start|\n",
            "+-------------+----------+--------------------+---------------------------+------------+\n",
            "|1-9860-3438-0|   Kristin|  Kristin@Brooks.com|                       null|  2020-11-15|\n",
            "|1-5151-4642-1|   Brandon|Brandon.Ritter@ni...|                    1550.75|  2020-11-15|\n",
            "|1-59971-953-3|      Seth|        Seth@Lee.com|                       null|  2020-11-15|\n",
            "+-------------+----------+--------------------+---------------------------+------------+\n",
            "\n"
          ]
        }
      ]
    },
    {
      "cell_type": "markdown",
      "source": [
        "Seth did not make any transactions during this period.\n",
        "\n",
        "Kristin did not make any transactions during this period.\n"
      ],
      "metadata": {
        "id": "cbrC-Fm5SMgy"
      }
    },
    {
      "cell_type": "code",
      "source": [
        "start_date = '2020-11-25'\n",
        "end_date   = '2020-11-31'\n",
        "vip_sales_overview(df_vips_mapping, df_transactions, start_date, end_date).show()"
      ],
      "metadata": {
        "colab": {
          "base_uri": "https://localhost:8080/"
        },
        "id": "KJT-bh9CSF5G",
        "outputId": "2f84dd3d-9e3b-4220-932c-d9c8cc9fd02e"
      },
      "execution_count": 120,
      "outputs": [
        {
          "output_type": "stream",
          "name": "stdout",
          "text": [
            "+-------------+----------+--------------------+---------------------------+------------+\n",
            "|   profile_id|first_name|               email|period_sales_after_discount|period_start|\n",
            "+-------------+----------+--------------------+---------------------------+------------+\n",
            "|1-9860-3438-0|   Kristin|  Kristin@Brooks.com|                     -181.0|  2020-11-25|\n",
            "|1-5151-4642-1|   Brandon|Brandon.Ritter@ni...|                      372.0|  2020-11-25|\n",
            "|1-59971-953-3|      Seth|        Seth@Lee.com|                       null|  2020-11-25|\n",
            "+-------------+----------+--------------------+---------------------------+------------+\n",
            "\n"
          ]
        }
      ]
    },
    {
      "cell_type": "markdown",
      "source": [
        "Seth did not make any transactions during this period.\n",
        "\n",
        "Kristin have returned on eof the two items that he have purchased in the first week of november.\n"
      ],
      "metadata": {
        "id": "GQVO9I-6SX00"
      }
    },
    {
      "cell_type": "markdown",
      "source": [
        "# Monthly Overview"
      ],
      "metadata": {
        "id": "6mCxh6I24ODk"
      }
    },
    {
      "cell_type": "code",
      "source": [
        "def monthly_overview(df_vips_mapping, df_transactions, start_date, end_date):\n",
        "  df = vip_sales_overview(df_vips_mapping, df_transactions, start_dates[0], end_dates[0])\n",
        "  for dt in range(2):\n",
        "    df = df.union(vip_sales_overview(df_vips_mapping, df_transactions, start_dates[dt+1], end_dates[dt+1]))\n",
        "  return df"
      ],
      "metadata": {
        "id": "O2UyVMuA4R7c"
      },
      "execution_count": 121,
      "outputs": []
    },
    {
      "cell_type": "code",
      "source": [
        "start_dates = ['2020-11-01', '2020-11-15', '2020-11-25']\n",
        "end_dates   = ['2020-11-15', '2020-11-25', '2020-11-31']\n",
        "monthly_overview(df_vips_mapping, df_transactions, start_dates, end_dates).show()"
      ],
      "metadata": {
        "colab": {
          "base_uri": "https://localhost:8080/"
        },
        "id": "xBV7oD4E40Db",
        "outputId": "e48c2047-5d5a-402f-e1f5-ec36a11c80c0"
      },
      "execution_count": 122,
      "outputs": [
        {
          "output_type": "stream",
          "name": "stdout",
          "text": [
            "+-------------+----------+--------------------+---------------------------+------------+\n",
            "|   profile_id|first_name|               email|period_sales_after_discount|period_start|\n",
            "+-------------+----------+--------------------+---------------------------+------------+\n",
            "|1-9860-3438-0|   Kristin|  Kristin@Brooks.com|                      362.0|  2020-11-01|\n",
            "|1-5151-4642-1|   Brandon|Brandon.Ritter@ni...|                       null|  2020-11-01|\n",
            "|1-9860-3438-0|   Kristin|  Kristin@Brooks.com|                       null|  2020-11-15|\n",
            "|1-5151-4642-1|   Brandon|Brandon.Ritter@ni...|                    1550.75|  2020-11-15|\n",
            "|1-59971-953-3|      Seth|        Seth@Lee.com|                       null|  2020-11-15|\n",
            "|1-9860-3438-0|   Kristin|  Kristin@Brooks.com|                     -181.0|  2020-11-25|\n",
            "|1-5151-4642-1|   Brandon|Brandon.Ritter@ni...|                      372.0|  2020-11-25|\n",
            "|1-59971-953-3|      Seth|        Seth@Lee.com|                       null|  2020-11-25|\n",
            "+-------------+----------+--------------------+---------------------------+------------+\n",
            "\n"
          ]
        }
      ]
    },
    {
      "cell_type": "code",
      "source": [
        "# Total sales for each customer during one month\n",
        "monthly_overview(df_vips_mapping, df_transactions, start_date, end_date).groupby(['first_name', 'email']).sum('period_sales_after_discount')\\\n",
        ".withColumnRenamed(\"sum(period_sales_after_discount)\", \"period_sales_after_discount\").sort(['period_sales_after_discount'],ascending = False).show()"
      ],
      "metadata": {
        "colab": {
          "base_uri": "https://localhost:8080/"
        },
        "id": "zYWh8rA25TJp",
        "outputId": "cd98a458-83bb-4047-a45a-76b463f73c19"
      },
      "execution_count": 123,
      "outputs": [
        {
          "output_type": "stream",
          "name": "stdout",
          "text": [
            "+----------+--------------------+---------------------------+\n",
            "|first_name|               email|period_sales_after_discount|\n",
            "+----------+--------------------+---------------------------+\n",
            "|   Brandon|Brandon.Ritter@ni...|                    1922.75|\n",
            "|   Kristin|  Kristin@Brooks.com|                      181.0|\n",
            "|      Seth|        Seth@Lee.com|                       null|\n",
            "+----------+--------------------+---------------------------+\n",
            "\n"
          ]
        }
      ]
    }
  ]
}